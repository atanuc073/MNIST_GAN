{
 "cells": [
  {
   "cell_type": "markdown",
   "metadata": {},
   "source": [
    "# Generative Adversarial Network\n",
    "\n",
    "In this notebook, we'll be building a generative adversarial network (GAN) trained on the MNIST dataset. From this, we'll be able to generate new handwritten digits!\n",
    "\n",
    "GANs were [first reported on](https://arxiv.org/abs/1406.2661) in 2014 from Ian Goodfellow and others in Yoshua Bengio's lab. Since then, GANs have exploded in popularity. Here are a few examples to check out:\n",
    "\n",
    "* [Pix2Pix](https://affinelayer.com/pixsrv/) \n",
    "* [CycleGAN & Pix2Pix in PyTorch, Jun-Yan Zhu](https://github.com/junyanz/pytorch-CycleGAN-and-pix2pix)\n",
    "* [A list of generative models](https://github.com/wiseodd/generative-models)\n",
    "\n",
    "The idea behind GANs is that you have two networks, a generator $G$ and a discriminator $D$, competing against each other. The generator makes \"fake\" data to pass to the discriminator. The discriminator also sees real training data and predicts if the data it's received is real or fake. \n",
    "> * The generator is trained to fool the discriminator, it wants to output data that looks _as close as possible_ to real, training data. \n",
    "* The discriminator is a classifier that is trained to figure out which data is real and which is fake. \n",
    "\n",
    "What ends up happening is that the generator learns to make data that is indistinguishable from real data to the discriminator.\n",
    "\n",
    "<img src='assets/gan_pipeline.png' width=70% />\n",
    "\n",
    "The general structure of a GAN is shown in the diagram above, using MNIST images as data. The latent sample is a random vector that the generator uses to construct its fake images. This is often called a **latent vector** and that vector space is called **latent space**. As the generator trains, it figures out how to map latent vectors to recognizable images that can fool the discriminator.\n",
    "\n",
    "If you're interested in generating only new images, you can throw out the discriminator after training. In this notebook, I'll show you how to define and train these adversarial networks in PyTorch and generate new images!"
   ]
  },
  {
   "cell_type": "code",
   "execution_count": 1,
   "metadata": {},
   "outputs": [],
   "source": [
    "%matplotlib inline\n",
    "\n",
    "import numpy as np\n",
    "import torch\n",
    "import matplotlib.pyplot as plt"
   ]
  },
  {
   "cell_type": "code",
   "execution_count": 2,
   "metadata": {},
   "outputs": [],
   "source": [
    "from torchvision import datasets\n",
    "import torchvision.transforms as transforms\n",
    "\n",
    "# number of subprocesses to use for data loading\n",
    "num_workers = 0\n",
    "# how many samples per batch to load\n",
    "batch_size = 64\n",
    "\n",
    "# convert data to torch.FloatTensor\n",
    "transform = transforms.ToTensor()\n",
    "\n",
    "# get the training datasets\n",
    "train_data = datasets.MNIST(root='data', train=True,\n",
    "                                   download=True, transform=transform)\n",
    "\n",
    "# prepare data loader\n",
    "train_loader = torch.utils.data.DataLoader(train_data, batch_size=batch_size,\n",
    "                                           num_workers=num_workers)"
   ]
  },
  {
   "cell_type": "markdown",
   "metadata": {},
   "source": [
    "### Visualize the data"
   ]
  },
  {
   "cell_type": "code",
   "execution_count": 3,
   "metadata": {},
   "outputs": [
    {
     "data": {
      "text/plain": [
       "<matplotlib.image.AxesImage at 0x7fb7d72f8588>"
      ]
     },
     "execution_count": 3,
     "metadata": {},
     "output_type": "execute_result"
    },
    {
     "data": {
      "image/png": "[encoded data removed]",
      "text/plain": [
       "<matplotlib.figure.Figure at 0x7fb7d73baeb8>"
      ]
     },
     "metadata": {
      "needs_background": "light"
     },
     "output_type": "display_data"
    }
   ],
   "source": [
    "# obtain one batch of training images\n",
    "dataiter = iter(train_loader)\n",
    "images, labels = dataiter.next()\n",
    "images = images.numpy()\n",
    "\n",
    "# get one image from the batch\n",
    "img = np.squeeze(images[0])\n",
    "\n",
    "fig = plt.figure(figsize = (3,3)) \n",
    "ax = fig.add_subplot(111)\n",
    "ax.imshow(img, cmap='gray')"
   ]
  },
  {
   "cell_type": "markdown",
   "metadata": {},
   "source": [
    "---\n",
    "# Define the Model\n",
    "\n",
    "A GAN is comprised of two adversarial networks, a discriminator and a generator."
   ]
  },
  {
   "cell_type": "markdown",
   "metadata": {},
   "source": [
    "## Discriminator\n",
    "\n",
    "The discriminator network is going to be a pretty typical linear classifier. To make this network a universal function approximator, we'll need at least one hidden layer, and these hidden layers should have one key attribute:\n",
    "> All hidden layers will have a [Leaky ReLu](https://pytorch.org/docs/stable/nn.html#torch.nn.LeakyReLU) activation function applied to their outputs.\n",
    "\n",
    "<img src='assets/gan_network.png' width=70% />\n",
    "\n",
    "#### Leaky ReLu\n",
    "\n",
    "We should use a leaky ReLU to allow gradients to flow backwards through the layer unimpeded. A leaky ReLU is like a normal ReLU, except that there is a small non-zero output for negative input values.\n",
    "\n",
    "<img src='assets/leaky_relu.png' width=40% />\n",
    "\n",
    "#### Sigmoid Output\n",
    "\n",
    "We'll also take the approach of using a more numerically stable loss function on the outputs. Recall that we want the discriminator to output a value 0-1 indicating whether an image is _real or fake_. \n",
    "> We will ultimately use [BCEWithLogitsLoss](https://pytorch.org/docs/stable/nn.html#bcewithlogitsloss), which combines a `sigmoid` activation function **and** and binary cross entropy loss in one function. \n",
    "\n",
    "So, our final output layer should not have any activation function applied to it."
   ]
  },
  {
   "cell_type": "code",
   "execution_count": 4,
   "metadata": {},
   "outputs": [],
   "source": [
    "import torch.nn as nn\n",
    "import torch.nn.functional as F\n",
    "\n",
    "class Discriminator(nn.Module):\n",
    "\n",
    "    def __init__(self, input_size, hidden_dim, output_size):\n",
    "        super(Discriminator, self).__init__()\n",
    "        \n",
    "        # define hidden linear layers\n",
    "        self.fc1 = nn.Linear(input_size, hidden_dim*4)\n",
    "        self.fc2 = nn.Linear(hidden_dim*4, hidden_dim*2)\n",
    "        self.fc3 = nn.Linear(hidden_dim*2, hidden_dim)\n",
    "        \n",
    "        # final fully-connected layer\n",
    "        self.fc4 = nn.Linear(hidden_dim, output_size)\n",
    "        \n",
    "        # dropout layer \n",
    "        self.dropout = nn.Dropout(0.3)\n",
    "        \n",
    "        \n",
    "    def forward(self, x):\n",
    "        # flatten image\n",
    "        x = x.view(-1, 28*28)\n",
    "        # all hidden layers\n",
    "        x = F.leaky_relu(self.fc1(x), 0.2) # (input, negative_slope=0.2)\n",
    "        x = self.dropout(x)\n",
    "        x = F.leaky_relu(self.fc2(x), 0.2)\n",
    "        x = self.dropout(x)\n",
    "        x = F.leaky_relu(self.fc3(x), 0.2)\n",
    "        x = self.dropout(x)\n",
    "        # final layer\n",
    "        out = self.fc4(x)\n",
    "\n",
    "        return out\n"
   ]
  },
  {
   "cell_type": "markdown",
   "metadata": {},
   "source": [
    "## Generator\n",
    "\n",
    "The generator network will be almost exactly the same as the discriminator network, except that we're applying a [tanh activation function](https://pytorch.org/docs/stable/nn.html#tanh) to our output layer.\n",
    "\n",
    "#### tanh Output\n",
    "The generator has been found to perform the best with $tanh$ for the generator output, which scales the output to be between -1 and 1, instead of 0 and 1. \n",
    "\n",
    "<img src='assets/tanh_fn.png' width=40% />\n",
    "\n",
    "Recall that we also want these outputs to be comparable to the *real* input pixel values, which are read in as normalized values between 0 and 1. \n",
    "> So, we'll also have to **scale our real input images to have pixel values between -1 and 1** when we train the discriminator. \n",
    "\n",
    "I'll do this in the training loop, later on."
   ]
  },
  {
   "cell_type": "code",
   "execution_count": 5,
   "metadata": {},
   "outputs": [],
   "source": [
    "class Generator(nn.Module):\n",
    "\n",
    "    def __init__(self, input_size, hidden_dim, output_size):\n",
    "        super(Generator, self).__init__()\n",
    "        \n",
    "        # define hidden linear layers\n",
    "        self.fc1 = nn.Linear(input_size, hidden_dim)\n",
    "        self.fc2 = nn.Linear(hidden_dim, hidden_dim*2)\n",
    "        self.fc3 = nn.Linear(hidden_dim*2, hidden_dim*4)\n",
    "        \n",
    "        # final fully-connected layer\n",
    "        self.fc4 = nn.Linear(hidden_dim*4, output_size)\n",
    "        \n",
    "        # dropout layer \n",
    "        self.dropout = nn.Dropout(0.3)\n",
    "\n",
    "    def forward(self, x):\n",
    "        # all hidden layers\n",
    "        x = F.leaky_relu(self.fc1(x), 0.2) # (input, negative_slope=0.2)\n",
    "        x = self.dropout(x)\n",
    "        x = F.leaky_relu(self.fc2(x), 0.2)\n",
    "        x = self.dropout(x)\n",
    "        x = F.leaky_relu(self.fc3(x), 0.2)\n",
    "        x = self.dropout(x)\n",
    "        # final layer with tanh applied\n",
    "        out = F.tanh(self.fc4(x))\n",
    "\n",
    "        return out"
   ]
  },
  {
   "cell_type": "markdown",
   "metadata": {},
   "source": [
    "## Model hyperparameters"
   ]
  },
  {
   "cell_type": "code",
   "execution_count": 6,
   "metadata": {},
   "outputs": [],
   "source": [
    "# Discriminator hyperparams\n",
    "\n",
    "# Size of input image to discriminator (28*28)\n",
    "input_size = 784\n",
    "# Size of discriminator output (real or fake)\n",
    "d_output_size = 1\n",
    "# Size of last hidden layer in the discriminator\n",
    "d_hidden_size = 32\n",
    "\n",
    "# Generator hyperparams\n",
    "\n",
    "# Size of latent vector to give to generator\n",
    "z_size = 100\n",
    "# Size of discriminator output (generated image)\n",
    "g_output_size = 784\n",
    "# Size of first hidden layer in the generator\n",
    "g_hidden_size = 32"
   ]
  },
  {
   "cell_type": "markdown",
   "metadata": {},
   "source": [
    "## Build complete network\n",
    "\n",
    "Now we're instantiating the discriminator and generator from the classes defined above. Make sure you've passed in the correct input arguments."
   ]
  },
  {
   "cell_type": "code",
   "execution_count": 7,
   "metadata": {},
   "outputs": [
    {
     "name": "stdout",
     "output_type": "stream",
     "text": [
      "Discriminator(\n",
      "  (fc1): Linear(in_features=784, out_features=128, bias=True)\n",
      "  (fc2): Linear(in_features=128, out_features=64, bias=True)\n",
      "  (fc3): Linear(in_features=64, out_features=32, bias=True)\n",
      "  (fc4): Linear(in_features=32, out_features=1, bias=True)\n",
      "  (dropout): Dropout(p=0.3)\n",
      ")\n",
      "\n",
      "Generator(\n",
      "  (fc1): Linear(in_features=100, out_features=32, bias=True)\n",
      "  (fc2): Linear(in_features=32, out_features=64, bias=True)\n",
      "  (fc3): Linear(in_features=64, out_features=128, bias=True)\n",
      "  (fc4): Linear(in_features=128, out_features=784, bias=True)\n",
      "  (dropout): Dropout(p=0.3)\n",
      ")\n"
     ]
    }
   ],
   "source": [
    "# instantiate discriminator and generator\n",
    "D = Discriminator(input_size, d_hidden_size, d_output_size)\n",
    "G = Generator(z_size, g_hidden_size, g_output_size)\n",
    "\n",
    "# check that they are as you expect\n",
    "print(D)\n",
    "print()\n",
    "print(G)"
   ]
  },
  {
   "cell_type": "markdown",
   "metadata": {},
   "source": [
    "---\n",
    "## Discriminator and Generator Losses\n",
    "\n",
    "Now we need to calculate the losses. \n",
    "\n",
    "### Discriminator Losses\n",
    "\n",
    "> * For the discriminator, the total loss is the sum of the losses for real and fake images, `d_loss = d_real_loss + d_fake_loss`. \n",
    "* Remember that we want the discriminator to output 1 for real images and 0 for fake images, so we need to set up the losses to reflect that.\n",
    "\n",
    "<img src='assets/gan_pipeline.png' width=70% />\n",
    "\n",
    "The losses will by binary cross entropy loss with logits, which we can get with [BCEWithLogitsLoss](https://pytorch.org/docs/stable/nn.html#bcewithlogitsloss). This combines a `sigmoid` activation function **and** and binary cross entropy loss in one function.\n",
    "\n",
    "For the real images, we want `D(real_images) = 1`. That is, we want the discriminator to classify the the real images with a label = 1, indicating that these are real. To help the discriminator generalize better, the labels are **reduced a bit from 1.0 to 0.9**. For this, we'll use the parameter `smooth`; if True, then we should smooth our labels. In PyTorch, this looks like `labels = torch.ones(size) * 0.9`\n",
    "\n",
    "The discriminator loss for the fake data is similar. We want `D(fake_images) = 0`, where the fake images are the _generator output_, `fake_images = G(z)`. \n",
    "\n",
    "### Generator Loss\n",
    "\n",
    "The generator loss will look similar only with flipped labels. The generator's goal is to get `D(fake_images) = 1`. In this case, the labels are **flipped** to represent that the generator is trying to fool the discriminator into thinking that the images it generates (fakes) are real!"
   ]
  },
  {
   "cell_type": "code",
   "execution_count": 8,
   "metadata": {},
   "outputs": [],
   "source": [
    "# Calculate losses\n",
    "def real_loss(D_out, smooth=False):\n",
    "    batch_size = D_out.size(0)\n",
    "    # label smoothing\n",
    "    if smooth:\n",
    "        # smooth, real labels = 0.9\n",
    "        labels = torch.ones(batch_size)*0.9\n",
    "    else:\n",
    "        labels = torch.ones(batch_size) # real labels = 1\n",
    "        \n",
    "    # numerically stable loss\n",
    "    criterion = nn.BCEWithLogitsLoss()\n",
    "    # calculate loss\n",
    "    loss = criterion(D_out.squeeze(), labels)\n",
    "    return loss\n",
    "\n",
    "def fake_loss(D_out):\n",
    "    batch_size = D_out.size(0)\n",
    "    labels = torch.zeros(batch_size) # fake labels = 0\n",
    "    criterion = nn.BCEWithLogitsLoss()\n",
    "    # calculate loss\n",
    "    loss = criterion(D_out.squeeze(), labels)\n",
    "    return loss"
   ]
  },
  {
   "cell_type": "markdown",
   "metadata": {},
   "source": [
    "## Optimizers\n",
    "\n",
    "We want to update the generator and discriminator variables separately. So, we'll define two separate Adam optimizers."
   ]
  },
  {
   "cell_type": "code",
   "execution_count": 9,
   "metadata": {
    "scrolled": true
   },
   "outputs": [],
   "source": [
    "import torch.optim as optim\n",
    "\n",
    "# Optimizers\n",
    "lr = 0.002\n",
    "\n",
    "# Create optimizers for the discriminator and generator\n",
    "d_optimizer = optim.Adam(D.parameters(), lr)\n",
    "g_optimizer = optim.Adam(G.parameters(), lr)"
   ]
  },
  {
   "cell_type": "markdown",
   "metadata": {},
   "source": [
    "---\n",
    "## Training\n",
    "\n",
    "Training will involve alternating between training the discriminator and the generator. We'll use our functions `real_loss` and `fake_loss` to help us calculate the discriminator losses in all of the following cases.\n",
    "\n",
    "### Discriminator training\n",
    "1. Compute the discriminator loss on real, training images        \n",
    "2. Generate fake images\n",
    "3. Compute the discriminator loss on fake, generated images     \n",
    "4. Add up real and fake loss\n",
    "5. Perform backpropagation + an optimization step to update the discriminator's weights\n",
    "\n",
    "### Generator training\n",
    "1. Generate fake images\n",
    "2. Compute the discriminator loss on fake images, using **flipped** labels!\n",
    "3. Perform backpropagation + an optimization step to update the generator's weights\n",
    "\n",
    "#### Saving Samples\n",
    "\n",
    "As we train, we'll also print out some loss statistics and save some generated \"fake\" samples."
   ]
  },
  {
   "cell_type": "code",
   "execution_count": 10,
   "metadata": {},
   "outputs": [
    {
     "name": "stdout",
     "output_type": "stream",
     "text": [
      "Epoch [    1/   60] | d_loss: 1.3884 | g_loss: 0.7077\n",
      "Epoch [    1/   60] | d_loss: 1.2285 | g_loss: 1.3171\n",
      "Epoch [    1/   60] | d_loss: 1.3043 | g_loss: 0.7438\n",
      "Epoch [    2/   60] | d_loss: 1.2051 | g_loss: 0.9774\n",
      "Epoch [    2/   60] | d_loss: 0.9847 | g_loss: 1.7905\n",
      "Epoch [    2/   60] | d_loss: 1.4263 | g_loss: 0.8025\n",
      "Epoch [    3/   60] | d_loss: 1.2751 | g_loss: 0.8635\n",
      "Epoch [    3/   60] | d_loss: 0.8772 | g_loss: 1.4054\n",
      "Epoch [    3/   60] | d_loss: 1.0519 | g_loss: 1.1982\n",
      "Epoch [    4/   60] | d_loss: 1.4932 | g_loss: 2.1488\n",
      "Epoch [    4/   60] | d_loss: 1.0803 | g_loss: 1.3460\n",
      "Epoch [    4/   60] | d_loss: 1.0941 | g_loss: 1.8086\n",
      "Epoch [    5/   60] | d_loss: 1.0234 | g_loss: 1.6869\n",
      "Epoch [    5/   60] | d_loss: 1.1167 | g_loss: 1.6820\n",
      "Epoch [    5/   60] | d_loss: 1.4299 | g_loss: 0.8281\n",
      "Epoch [    6/   60] | d_loss: 1.0371 | g_loss: 1.5915\n",
      "Epoch [    6/   60] | d_loss: 1.1193 | g_loss: 1.3167\n",
      "Epoch [    6/   60] | d_loss: 1.1302 | g_loss: 1.1695\n",
      "Epoch [    7/   60] | d_loss: 1.3306 | g_loss: 1.0796\n",
      "Epoch [    7/   60] | d_loss: 1.2251 | g_loss: 1.5026\n",
      "Epoch [    7/   60] | d_loss: 1.0923 | g_loss: 1.2386\n",
      "Epoch [    8/   60] | d_loss: 1.2108 | g_loss: 1.2196\n",
      "Epoch [    8/   60] | d_loss: 1.2018 | g_loss: 1.0554\n",
      "Epoch [    8/   60] | d_loss: 1.3157 | g_loss: 1.1538\n",
      "Epoch [    9/   60] | d_loss: 1.2553 | g_loss: 0.9547\n",
      "Epoch [    9/   60] | d_loss: 1.2158 | g_loss: 1.0619\n",
      "Epoch [    9/   60] | d_loss: 1.1163 | g_loss: 1.1443\n",
      "Epoch [   10/   60] | d_loss: 1.3878 | g_loss: 1.2848\n",
      "Epoch [   10/   60] | d_loss: 1.4674 | g_loss: 0.8704\n",
      "Epoch [   10/   60] | d_loss: 1.1789 | g_loss: 1.1959\n",
      "Epoch [   11/   60] | d_loss: 1.1506 | g_loss: 1.1854\n",
      "Epoch [   11/   60] | d_loss: 1.2284 | g_loss: 0.8909\n",
      "Epoch [   11/   60] | d_loss: 1.2638 | g_loss: 0.9715\n",
      "Epoch [   12/   60] | d_loss: 1.3462 | g_loss: 1.0427\n",
      "Epoch [   12/   60] | d_loss: 1.2359 | g_loss: 1.2030\n",
      "Epoch [   12/   60] | d_loss: 1.2173 | g_loss: 0.8969\n",
      "Epoch [   13/   60] | d_loss: 1.1959 | g_loss: 1.4167\n",
      "Epoch [   13/   60] | d_loss: 1.3602 | g_loss: 1.1672\n",
      "Epoch [   13/   60] | d_loss: 1.3264 | g_loss: 0.9296\n",
      "Epoch [   14/   60] | d_loss: 1.2738 | g_loss: 0.9522\n",
      "Epoch [   14/   60] | d_loss: 1.3238 | g_loss: 1.0279\n",
      "Epoch [   14/   60] | d_loss: 1.4493 | g_loss: 0.8698\n",
      "Epoch [   15/   60] | d_loss: 1.3362 | g_loss: 0.9259\n",
      "Epoch [   15/   60] | d_loss: 1.3352 | g_loss: 1.0147\n",
      "Epoch [   15/   60] | d_loss: 1.2065 | g_loss: 1.2479\n",
      "Epoch [   16/   60] | d_loss: 1.2397 | g_loss: 1.6607\n",
      "Epoch [   16/   60] | d_loss: 1.3028 | g_loss: 1.0501\n",
      "Epoch [   16/   60] | d_loss: 1.3963 | g_loss: 1.0288\n",
      "Epoch [   17/   60] | d_loss: 1.4047 | g_loss: 0.8405\n",
      "Epoch [   17/   60] | d_loss: 1.3119 | g_loss: 0.8246\n",
      "Epoch [   17/   60] | d_loss: 1.2459 | g_loss: 0.9801\n",
      "Epoch [   18/   60] | d_loss: 1.2128 | g_loss: 1.1596\n",
      "Epoch [   18/   60] | d_loss: 1.3366 | g_loss: 0.8877\n",
      "Epoch [   18/   60] | d_loss: 1.3857 | g_loss: 0.9105\n",
      "Epoch [   19/   60] | d_loss: 1.1782 | g_loss: 1.4711\n",
      "Epoch [   19/   60] | d_loss: 1.1180 | g_loss: 1.7423\n",
      "Epoch [   19/   60] | d_loss: 1.2733 | g_loss: 0.8968\n",
      "Epoch [   20/   60] | d_loss: 1.1236 | g_loss: 1.2875\n",
      "Epoch [   20/   60] | d_loss: 1.2618 | g_loss: 1.0150\n",
      "Epoch [   20/   60] | d_loss: 1.3100 | g_loss: 0.8772\n",
      "Epoch [   21/   60] | d_loss: 1.3610 | g_loss: 0.8693\n",
      "Epoch [   21/   60] | d_loss: 1.2332 | g_loss: 0.9685\n",
      "Epoch [   21/   60] | d_loss: 1.2803 | g_loss: 1.3458\n",
      "Epoch [   22/   60] | d_loss: 1.3346 | g_loss: 0.9456\n",
      "Epoch [   22/   60] | d_loss: 1.2718 | g_loss: 1.0138\n",
      "Epoch [   22/   60] | d_loss: 1.3024 | g_loss: 0.9630\n",
      "Epoch [   23/   60] | d_loss: 1.3203 | g_loss: 1.2992\n",
      "Epoch [   23/   60] | d_loss: 1.3566 | g_loss: 0.9330\n",
      "Epoch [   23/   60] | d_loss: 1.2482 | g_loss: 1.1637\n",
      "Epoch [   24/   60] | d_loss: 1.4943 | g_loss: 1.0669\n",
      "Epoch [   24/   60] | d_loss: 1.2290 | g_loss: 1.0777\n",
      "Epoch [   24/   60] | d_loss: 1.3320 | g_loss: 0.9260\n",
      "Epoch [   25/   60] | d_loss: 1.2518 | g_loss: 1.0554\n",
      "Epoch [   25/   60] | d_loss: 1.3245 | g_loss: 0.8181\n",
      "Epoch [   25/   60] | d_loss: 1.3363 | g_loss: 1.2943\n",
      "Epoch [   26/   60] | d_loss: 1.1900 | g_loss: 1.0788\n",
      "Epoch [   26/   60] | d_loss: 1.2416 | g_loss: 0.9704\n",
      "Epoch [   26/   60] | d_loss: 1.4097 | g_loss: 0.9517\n",
      "Epoch [   27/   60] | d_loss: 1.5551 | g_loss: 0.8930\n",
      "Epoch [   27/   60] | d_loss: 1.2183 | g_loss: 1.0185\n",
      "Epoch [   27/   60] | d_loss: 1.3388 | g_loss: 1.0019\n",
      "Epoch [   28/   60] | d_loss: 1.3018 | g_loss: 1.3341\n",
      "Epoch [   28/   60] | d_loss: 1.2652 | g_loss: 1.0707\n",
      "Epoch [   28/   60] | d_loss: 1.3204 | g_loss: 0.8523\n",
      "Epoch [   29/   60] | d_loss: 1.2488 | g_loss: 1.1985\n",
      "Epoch [   29/   60] | d_loss: 1.2772 | g_loss: 0.9125\n",
      "Epoch [   29/   60] | d_loss: 1.2434 | g_loss: 0.9989\n",
      "Epoch [   30/   60] | d_loss: 1.3071 | g_loss: 1.1866\n",
      "Epoch [   30/   60] | d_loss: 1.2758 | g_loss: 0.9508\n",
      "Epoch [   30/   60] | d_loss: 1.3255 | g_loss: 1.0869\n",
      "Epoch [   31/   60] | d_loss: 1.2181 | g_loss: 0.9239\n",
      "Epoch [   31/   60] | d_loss: 1.2393 | g_loss: 0.9209\n",
      "Epoch [   31/   60] | d_loss: 1.3457 | g_loss: 1.0523\n",
      "Epoch [   32/   60] | d_loss: 1.2711 | g_loss: 1.1656\n",
      "Epoch [   32/   60] | d_loss: 1.3096 | g_loss: 1.0965\n",
      "Epoch [   32/   60] | d_loss: 1.3004 | g_loss: 1.0638\n",
      "Epoch [   33/   60] | d_loss: 1.2859 | g_loss: 1.0291\n",
      "Epoch [   33/   60] | d_loss: 1.2190 | g_loss: 1.0418\n",
      "Epoch [   33/   60] | d_loss: 1.3476 | g_loss: 0.9261\n",
      "Epoch [   34/   60] | d_loss: 1.3933 | g_loss: 0.9802\n",
      "Epoch [   34/   60] | d_loss: 1.2783 | g_loss: 0.9696\n",
      "Epoch [   34/   60] | d_loss: 1.4638 | g_loss: 1.3835\n",
      "Epoch [   35/   60] | d_loss: 1.4258 | g_loss: 2.0603\n",
      "Epoch [   35/   60] | d_loss: 1.2850 | g_loss: 0.9085\n",
      "Epoch [   35/   60] | d_loss: 1.4509 | g_loss: 0.9419\n",
      "Epoch [   36/   60] | d_loss: 1.3304 | g_loss: 0.9733\n",
      "Epoch [   36/   60] | d_loss: 1.2524 | g_loss: 0.8699\n",
      "Epoch [   36/   60] | d_loss: 1.3029 | g_loss: 0.9594\n",
      "Epoch [   37/   60] | d_loss: 1.3028 | g_loss: 0.8500\n",
      "Epoch [   37/   60] | d_loss: 1.3430 | g_loss: 0.8029\n",
      "Epoch [   37/   60] | d_loss: 1.3396 | g_loss: 0.9733\n",
      "Epoch [   38/   60] | d_loss: 1.3225 | g_loss: 1.0202\n",
      "Epoch [   38/   60] | d_loss: 1.3669 | g_loss: 0.8398\n",
      "Epoch [   38/   60] | d_loss: 1.4268 | g_loss: 0.9517\n",
      "Epoch [   39/   60] | d_loss: 1.3312 | g_loss: 0.9041\n",
      "Epoch [   39/   60] | d_loss: 1.2339 | g_loss: 0.9726\n",
      "Epoch [   39/   60] | d_loss: 1.3242 | g_loss: 0.9406\n",
      "Epoch [   40/   60] | d_loss: 1.3856 | g_loss: 0.8984\n",
      "Epoch [   40/   60] | d_loss: 1.2799 | g_loss: 0.9118\n",
      "Epoch [   40/   60] | d_loss: 1.2946 | g_loss: 1.2216\n",
      "Epoch [   41/   60] | d_loss: 1.3181 | g_loss: 0.9175\n",
      "Epoch [   41/   60] | d_loss: 1.2278 | g_loss: 0.8886\n",
      "Epoch [   41/   60] | d_loss: 1.2813 | g_loss: 0.9294\n",
      "Epoch [   42/   60] | d_loss: 1.2732 | g_loss: 0.9880\n",
      "Epoch [   42/   60] | d_loss: 1.3195 | g_loss: 0.9519\n",
      "Epoch [   42/   60] | d_loss: 1.3454 | g_loss: 1.0715\n",
      "Epoch [   43/   60] | d_loss: 1.2020 | g_loss: 1.6028\n",
      "Epoch [   43/   60] | d_loss: 1.3432 | g_loss: 0.8819\n",
      "Epoch [   43/   60] | d_loss: 1.3206 | g_loss: 0.9768\n",
      "Epoch [   44/   60] | d_loss: 1.3043 | g_loss: 0.8567\n",
      "Epoch [   44/   60] | d_loss: 1.3472 | g_loss: 0.9475\n",
      "Epoch [   44/   60] | d_loss: 1.3753 | g_loss: 0.8114\n",
      "Epoch [   45/   60] | d_loss: 1.2313 | g_loss: 1.1159\n",
      "Epoch [   45/   60] | d_loss: 1.2942 | g_loss: 0.8438\n",
      "Epoch [   45/   60] | d_loss: 1.2299 | g_loss: 0.9296\n",
      "Epoch [   46/   60] | d_loss: 1.2955 | g_loss: 1.0312\n",
      "Epoch [   46/   60] | d_loss: 1.2527 | g_loss: 1.2390\n",
      "Epoch [   46/   60] | d_loss: 1.3621 | g_loss: 0.8361\n",
      "Epoch [   47/   60] | d_loss: 1.2230 | g_loss: 1.0662\n",
      "Epoch [   47/   60] | d_loss: 1.2319 | g_loss: 0.9217\n",
      "Epoch [   47/   60] | d_loss: 1.3416 | g_loss: 0.9799\n",
      "Epoch [   48/   60] | d_loss: 1.2978 | g_loss: 1.0461\n",
      "Epoch [   48/   60] | d_loss: 1.2277 | g_loss: 1.1099\n",
      "Epoch [   48/   60] | d_loss: 1.2239 | g_loss: 1.4972\n",
      "Epoch [   49/   60] | d_loss: 1.3298 | g_loss: 0.9697\n",
      "Epoch [   49/   60] | d_loss: 1.2926 | g_loss: 1.0085\n",
      "Epoch [   49/   60] | d_loss: 1.3520 | g_loss: 0.8952\n",
      "Epoch [   50/   60] | d_loss: 1.1682 | g_loss: 0.9983\n",
      "Epoch [   50/   60] | d_loss: 1.1878 | g_loss: 0.9267\n",
      "Epoch [   50/   60] | d_loss: 1.4014 | g_loss: 0.9846\n",
      "Epoch [   51/   60] | d_loss: 1.3085 | g_loss: 0.9878\n",
      "Epoch [   51/   60] | d_loss: 1.2962 | g_loss: 0.9604\n",
      "Epoch [   51/   60] | d_loss: 1.3530 | g_loss: 0.9212\n",
      "Epoch [   52/   60] | d_loss: 1.3382 | g_loss: 0.8317\n",
      "Epoch [   52/   60] | d_loss: 1.2786 | g_loss: 0.9968\n",
      "Epoch [   52/   60] | d_loss: 1.3102 | g_loss: 0.9271\n",
      "Epoch [   53/   60] | d_loss: 1.2568 | g_loss: 0.8155\n",
      "Epoch [   53/   60] | d_loss: 1.2866 | g_loss: 1.0641\n",
      "Epoch [   53/   60] | d_loss: 1.3421 | g_loss: 0.9050\n",
      "Epoch [   54/   60] | d_loss: 1.3491 | g_loss: 1.0781\n",
      "Epoch [   54/   60] | d_loss: 1.2876 | g_loss: 0.8498\n",
      "Epoch [   54/   60] | d_loss: 1.2902 | g_loss: 0.9837\n",
      "Epoch [   55/   60] | d_loss: 1.2502 | g_loss: 1.1737\n",
      "Epoch [   55/   60] | d_loss: 1.2667 | g_loss: 1.0283\n",
      "Epoch [   55/   60] | d_loss: 1.3517 | g_loss: 0.8530\n",
      "Epoch [   56/   60] | d_loss: 1.2095 | g_loss: 0.9883\n",
      "Epoch [   56/   60] | d_loss: 1.2448 | g_loss: 0.9131\n",
      "Epoch [   56/   60] | d_loss: 1.2924 | g_loss: 0.9068\n",
      "Epoch [   57/   60] | d_loss: 1.2963 | g_loss: 1.1111\n",
      "Epoch [   57/   60] | d_loss: 1.2914 | g_loss: 0.8530\n",
      "Epoch [   57/   60] | d_loss: 1.4525 | g_loss: 0.8508\n",
      "Epoch [   58/   60] | d_loss: 1.3299 | g_loss: 0.8455\n",
      "Epoch [   58/   60] | d_loss: 1.2705 | g_loss: 1.1248\n",
      "Epoch [   58/   60] | d_loss: 1.3951 | g_loss: 1.0257\n",
      "Epoch [   59/   60] | d_loss: 1.3116 | g_loss: 0.9647\n",
      "Epoch [   59/   60] | d_loss: 1.2430 | g_loss: 0.9689\n",
      "Epoch [   59/   60] | d_loss: 1.2870 | g_loss: 1.1637\n",
      "Epoch [   60/   60] | d_loss: 1.3487 | g_loss: 1.2861\n",
      "Epoch [   60/   60] | d_loss: 1.2684 | g_loss: 1.0935\n",
      "Epoch [   60/   60] | d_loss: 1.2567 | g_loss: 1.0948\n"
     ]
    }
   ],
   "source": [
    "import pickle as pkl\n",
    "\n",
    "# training hyperparams\n",
    "num_epochs = 60\n",
    "\n",
    "# keep track of loss and generated, \"fake\" samples\n",
    "samples = []\n",
    "losses = []\n",
    "\n",
    "print_every = 400\n",
    "\n",
    "# Get some fixed data for sampling. These are images that are held\n",
    "# constant throughout training, and allow us to inspect the model's performance\n",
    "sample_size=16\n",
    "fixed_z = np.random.uniform(-1, 1, size=(sample_size, z_size))\n",
    "fixed_z = torch.from_numpy(fixed_z).float()\n",
    "\n",
    "# train the network\n",
    "D.train()\n",
    "G.train()\n",
    "for epoch in range(num_epochs):\n",
    "    \n",
    "    for batch_i, (real_images, _) in enumerate(train_loader):\n",
    "                \n",
    "        batch_size = real_images.size(0)\n",
    "        \n",
    "        ## Important rescaling step ## \n",
    "        real_images = real_images*2 - 1  # rescale input images from [0,1) to [-1, 1)\n",
    "        \n",
    "        # ============================================\n",
    "        #            TRAIN THE DISCRIMINATOR\n",
    "        # ============================================\n",
    "        \n",
    "        d_optimizer.zero_grad()\n",
    "        \n",
    "        # 1. Train with real images\n",
    "\n",
    "        # Compute the discriminator losses on real images \n",
    "        # smooth the real labels\n",
    "        D_real = D(real_images)\n",
    "        d_real_loss = real_loss(D_real, smooth=True)\n",
    "        \n",
    "        # 2. Train with fake images\n",
    "        \n",
    "        # Generate fake images\n",
    "        z = np.random.uniform(-1, 1, size=(batch_size, z_size))\n",
    "        z = torch.from_numpy(z).float()\n",
    "        fake_images = G(z)\n",
    "        \n",
    "        # Compute the discriminator losses on fake images        \n",
    "        D_fake = D(fake_images)\n",
    "        d_fake_loss = fake_loss(D_fake)\n",
    "        \n",
    "        # add up loss and perform backprop\n",
    "        d_loss = d_real_loss + d_fake_loss\n",
    "        d_loss.backward()\n",
    "        d_optimizer.step()\n",
    "        \n",
    "        \n",
    "        # =========================================\n",
    "        #            TRAIN THE GENERATOR\n",
    "        # =========================================\n",
    "        g_optimizer.zero_grad()\n",
    "        \n",
    "        # 1. Train with fake images and flipped labels\n",
    "        \n",
    "        # Generate fake images\n",
    "        z = np.random.uniform(-1, 1, size=(batch_size, z_size))\n",
    "        z = torch.from_numpy(z).float()\n",
    "        fake_images = G(z)\n",
    "        \n",
    "        # Compute the discriminator losses on fake images \n",
    "        # using flipped labels!\n",
    "        D_fake = D(fake_images)\n",
    "        g_loss = real_loss(D_fake) # use real loss to flip labels\n",
    "        \n",
    "        # perform backprop\n",
    "        g_loss.backward()\n",
    "        g_optimizer.step()\n",
    "\n",
    "        # Print some loss stats\n",
    "        if batch_i % print_every == 0:\n",
    "            # print discriminator and generator loss\n",
    "            print('Epoch [{:5d}/{:5d}] | d_loss: {:6.4f} | g_loss: {:6.4f}'.format(\n",
    "                    epoch+1, num_epochs, d_loss.item(), g_loss.item()))\n",
    "\n",
    "    \n",
    "    ## AFTER EACH EPOCH##\n",
    "    # append discriminator loss and generator loss\n",
    "    losses.append((d_loss.item(), g_loss.item()))\n",
    "    \n",
    "    # generate and save sample, fake images\n",
    "    G.eval() # eval mode for generating samples\n",
    "    samples_z = G(fixed_z)\n",
    "    samples.append(samples_z)\n",
    "    G.train() # back to train mode\n",
    "\n",
    "\n",
    "# Save training generator samples\n",
    "with open('train_samples.pkl', 'wb') as f:\n",
    "    pkl.dump(samples, f)"
   ]
  },
  {
   "cell_type": "markdown",
   "metadata": {},
   "source": [
    "## Training loss\n",
    "\n",
    "Here we'll plot the training losses for the generator and discriminator, recorded after each epoch."
   ]
  },
  {
   "cell_type": "code",
   "execution_count": 11,
   "metadata": {},
   "outputs": [
    {
     "data": {
      "text/plain": [
       "<matplotlib.legend.Legend at 0x7fb7cda36f28>"
      ]
     },
     "execution_count": 11,
     "metadata": {},
     "output_type": "execute_result"
    },
    {
     "data": {
      "image/png": "[encoded data removed]",
      "text/plain": [
       "<matplotlib.figure.Figure at 0x7fb7d73676d8>"
      ]
     },
     "metadata": {
      "needs_background": "light"
     },
     "output_type": "display_data"
    }
   ],
   "source": [
    "fig, ax = plt.subplots()\n",
    "losses = np.array(losses)\n",
    "plt.plot(losses.T[0], label='Discriminator')\n",
    "plt.plot(losses.T[1], label='Generator')\n",
    "plt.title(\"Training Losses\")\n",
    "plt.legend()"
   ]
  },
  {
   "cell_type": "markdown",
   "metadata": {},
   "source": [
    "## Generator samples from training\n",
    "\n",
    "Here we can view samples of images from the generator. First we'll look at the images we saved during training."
   ]
  },
  {
   "cell_type": "code",
   "execution_count": 12,
   "metadata": {},
   "outputs": [],
   "source": [
    "# helper function for viewing a list of passed in sample images\n",
    "def view_samples(epoch, samples):\n",
    "    fig, axes = plt.subplots(figsize=(7,7), nrows=4, ncols=4, sharey=True, sharex=True)\n",
    "    for ax, img in zip(axes.flatten(), samples[epoch]):\n",
    "        img = img.detach()\n",
    "        ax.xaxis.set_visible(False)\n",
    "        ax.yaxis.set_visible(False)\n",
    "        im = ax.imshow(img.reshape((28,28)), cmap='Greys_r')"
   ]
  },
  {
   "cell_type": "code",
   "execution_count": 13,
   "metadata": {},
   "outputs": [],
   "source": [
    "# Load samples from generator, taken while training\n",
    "with open('train_samples.pkl', 'rb') as f:\n",
    "    samples = pkl.load(f)"
   ]
  },
  {
   "cell_type": "markdown",
   "metadata": {},
   "source": [
    "These are samples from the final training epoch. You can see the generator is able to reproduce numbers like 1, 7, 3, 2. Since this is just a sample, it isn't representative of the full range of images this generator can make."
   ]
  },
  {
   "cell_type": "code",
   "execution_count": 14,
   "metadata": {},
   "outputs": [
    {
     "data": {
      "image/png": "[encoded data removed]",
      "text/plain": [
       "<matplotlib.figure.Figure at 0x7fb7cda126d8>"
      ]
     },
     "metadata": {
      "needs_background": "light"
     },
     "output_type": "display_data"
    }
   ],
   "source": [
    "# -1 indicates final epoch's samples (the last in the list)\n",
    "view_samples(-1, samples)"
   ]
  },
  {
   "cell_type": "markdown",
   "metadata": {},
   "source": [
    "Below I'm showing the generated images as the network was training, every 10 epochs."
   ]
  },
  {
   "cell_type": "code",
   "execution_count": 15,
   "metadata": {},
   "outputs": [
    {
     "data": {
      "image/png": "[encoded data removed]",
      "text/plain": [
       "<matplotlib.figure.Figure at 0x7fb7cdb7cbe0>"
      ]
     },
     "metadata": {
      "needs_background": "light"
     },
     "output_type": "display_data"
    }
   ],
   "source": [
    "rows = 6 # split epochs into 10, so 100/10 = every 10 epochs\n",
    "cols = 6\n",
    "fig, axes = plt.subplots(figsize=(7,12), nrows=rows, ncols=cols, sharex=True, sharey=True)\n",
    "\n",
    "for sample, ax_row in zip(samples[::int(len(samples)/rows)], axes):\n",
    "    for img, ax in zip(sample[::int(len(sample)/cols)], ax_row):\n",
    "        img = img.detach()\n",
    "        ax.imshow(img.reshape((28,28)), cmap='Greys_r')\n",
    "        ax.xaxis.set_visible(False)\n",
    "        ax.yaxis.set_visible(False)"
   ]
  },
  {
   "cell_type": "markdown",
   "metadata": {},
   "source": [
    "It starts out as all noise. Then it learns to make only the center white and the rest black. You can start to see some number like structures appear out of the noise like 1s and 9s."
   ]
  },
  {
   "cell_type": "markdown",
   "metadata": {},
   "source": [
    "## Sampling from the generator\n",
    "\n",
    "We can also get completely new images from the generator by using the checkpoint we saved after training. **We just need to pass in a new latent vector $z$ and we'll get new samples**!"
   ]
  },
  {
   "cell_type": "code",
   "execution_count": 16,
   "metadata": {},
   "outputs": [
    {
     "data": {
      "image/png": "[encoded data removed]",
      "text/plain": [
       "<matplotlib.figure.Figure at 0x7fb7cd2da7b8>"
      ]
     },
     "metadata": {
      "needs_background": "light"
     },
     "output_type": "display_data"
    }
   ],
   "source": [
    "# randomly generated, new latent vectors\n",
    "sample_size=16\n",
    "rand_z = np.random.uniform(-1, 1, size=(sample_size, z_size))\n",
    "rand_z = torch.from_numpy(rand_z).float()\n",
    "\n",
    "G.eval() # eval mode\n",
    "# generated samples\n",
    "rand_images = G(rand_z)\n",
    "\n",
    "# 0 indicates the first set of samples in the passed in list\n",
    "# and we only have one batch of samples, here\n",
    "view_samples(0, [rand_images])"
   ]
  },
  {
   "cell_type": "code",
   "execution_count": null,
   "metadata": {},
   "outputs": [],
   "source": []
  }
 ],
 "metadata": {
  "kernelspec": {
   "display_name": "Python 3",
   "language": "python",
   "name": "python3"
  },
  "language_info": {
   "codemirror_mode": {
    "name": "ipython",
    "version": 3
   },
   "file_extension": ".py",
   "mimetype": "text/x-python",
   "name": "python",
   "nbconvert_exporter": "python",
   "pygments_lexer": "ipython3",
   "version": "3.6.3"
  }
 },
 "nbformat": 4,
 "nbformat_minor": 2
}
